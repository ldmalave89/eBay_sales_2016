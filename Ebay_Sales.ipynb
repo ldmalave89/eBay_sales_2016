{
 "cells": [
  {
   "cell_type": "markdown",
   "source": [
    "## Analizando listado de carros usados en eBay\n",
    "\n",
    "Trabajeremos un dataset de carros usados de Ebay Kleinanzeigen, una sección de clasificados del website\n",
    "de eBay Alemania.\n",
    "\n",
    "El dataset fue originalmente scraped y subido a Kaggle. La versión del dataset que utilizaremos tiene una\n",
    "muestra de 50000 data points.\n",
    "\n",
    "A continuación se anexa el contenido de cada una de las columnas del dataset:\n",
    "\n",
    "* dateCrawled: cuando se rastreó este anuncio por primera vez. Todos los valores de campo se toman a partir\n",
    "de esta fecha.\n",
    "* name: nombre del auto.\n",
    "* seller: si el vendedor es privado o un dealer.\n",
    "* offerType: tipo de publicación.\n",
    "* price: el precio de venta del vehículo en la publicación.\n",
    "* abtest: si el vehículo publicado diposne de pruebas de A/B.\n",
    "* vehicleType: el tipo de vehículo.\n",
    "* yearOfRegistration: año en el que auto fue registrado por primera vez.\n",
    "* gearbox: tipo de transmisión\n",
    "* powerPS: la potencia del auto en PS.\n",
    "* model: nombre del modelo del auto.\n",
    "* kilometer: kilometraje del auto.\n",
    "* monthOfRegistration: mes en que el auto fue registrado por primera vez.\n",
    "* fuelType: tipo de combustible que utiliza el auto.\n",
    "* brand: marca del auto.\n",
    "* notRepairedDamage: si el auto tiene daños y no han sido reparados aún.\n",
    "* dateCreated: día en que la publicación del auto fue creada.\n",
    "* nrOfPictures: número de fotos en la publicación.\n",
    "* postalCode: código postal de la ubicación donde se encuentra el auto.\n",
    "* lastSeenOnline: cuando el dueño del anunció revisó el anuncio por última vez.\n",
    "\n",
    "El propósito de este proyecto es de limpiar la data y analizar la lista de anuncios de carros usados\n",
    "de eBay Alemania."
   ],
   "metadata": {
    "collapsed": false,
    "pycharm": {
     "name": "#%% md\n"
    }
   }
  },
  {
   "cell_type": "code",
   "execution_count": 1,
   "outputs": [],
   "source": [
    "import numpy as np\n",
    "import pandas as pd"
   ],
   "metadata": {
    "collapsed": false,
    "pycharm": {
     "name": "#%%\n"
    }
   }
  },
  {
   "cell_type": "code",
   "execution_count": 2,
   "outputs": [
    {
     "name": "stdout",
     "output_type": "stream",
     "text": [
      "<class 'pandas.core.frame.DataFrame'>\n",
      "RangeIndex: 50000 entries, 0 to 49999\n",
      "Data columns (total 20 columns):\n",
      " #   Column               Non-Null Count  Dtype \n",
      "---  ------               --------------  ----- \n",
      " 0   dateCrawled          50000 non-null  object\n",
      " 1   name                 50000 non-null  object\n",
      " 2   seller               50000 non-null  object\n",
      " 3   offerType            50000 non-null  object\n",
      " 4   price                50000 non-null  object\n",
      " 5   abtest               50000 non-null  object\n",
      " 6   vehicleType          44905 non-null  object\n",
      " 7   yearOfRegistration   50000 non-null  int64 \n",
      " 8   gearbox              47320 non-null  object\n",
      " 9   powerPS              50000 non-null  int64 \n",
      " 10  model                47242 non-null  object\n",
      " 11  odometer             50000 non-null  object\n",
      " 12  monthOfRegistration  50000 non-null  int64 \n",
      " 13  fuelType             45518 non-null  object\n",
      " 14  brand                50000 non-null  object\n",
      " 15  notRepairedDamage    40171 non-null  object\n",
      " 16  dateCreated          50000 non-null  object\n",
      " 17  nrOfPictures         50000 non-null  int64 \n",
      " 18  postalCode           50000 non-null  int64 \n",
      " 19  lastSeen             50000 non-null  object\n",
      "dtypes: int64(5), object(15)\n",
      "memory usage: 7.6+ MB\n",
      "None \n",
      "\n",
      "           dateCrawled                                               name  \\\n",
      "0  2016-03-26 17:47:46                   Peugeot_807_160_NAVTECH_ON_BOARD   \n",
      "1  2016-04-04 13:38:56         BMW_740i_4_4_Liter_HAMANN_UMBAU_Mega_Optik   \n",
      "2  2016-03-26 18:57:24                         Volkswagen_Golf_1.6_United   \n",
      "3  2016-03-12 16:58:10  Smart_smart_fortwo_coupe_softouch/F1/Klima/Pan...   \n",
      "4  2016-04-01 14:38:50  Ford_Focus_1_6_Benzin_TÜV_neu_ist_sehr_gepfleg...   \n",
      "\n",
      "   seller offerType   price   abtest vehicleType  yearOfRegistration  \\\n",
      "0  privat   Angebot  $5,000  control         bus                2004   \n",
      "1  privat   Angebot  $8,500  control   limousine                1997   \n",
      "2  privat   Angebot  $8,990     test   limousine                2009   \n",
      "3  privat   Angebot  $4,350  control  kleinwagen                2007   \n",
      "4  privat   Angebot  $1,350     test       kombi                2003   \n",
      "\n",
      "     gearbox  powerPS   model   odometer  monthOfRegistration fuelType  \\\n",
      "0    manuell      158  andere  150,000km                    3      lpg   \n",
      "1  automatik      286     7er  150,000km                    6   benzin   \n",
      "2    manuell      102    golf   70,000km                    7   benzin   \n",
      "3  automatik       71  fortwo   70,000km                    6   benzin   \n",
      "4    manuell        0   focus  150,000km                    7   benzin   \n",
      "\n",
      "        brand notRepairedDamage          dateCreated  nrOfPictures  \\\n",
      "0     peugeot              nein  2016-03-26 00:00:00             0   \n",
      "1         bmw              nein  2016-04-04 00:00:00             0   \n",
      "2  volkswagen              nein  2016-03-26 00:00:00             0   \n",
      "3       smart              nein  2016-03-12 00:00:00             0   \n",
      "4        ford              nein  2016-04-01 00:00:00             0   \n",
      "\n",
      "   postalCode             lastSeen  \n",
      "0       79588  2016-04-06 06:45:54  \n",
      "1       71034  2016-04-06 14:45:08  \n",
      "2       35394  2016-04-06 20:15:37  \n",
      "3       33729  2016-03-15 03:16:28  \n",
      "4       39218  2016-04-01 14:38:50   \n",
      "\n"
     ]
    }
   ],
   "source": [
    "auto = pd.read_csv(\"autos.csv\", encoding=\"Latin-1\")\n",
    "print(auto.info(), \"\\n\")\n",
    "print(auto.head(),\"\\n\")"
   ],
   "metadata": {
    "collapsed": false,
    "pycharm": {
     "name": "#%%\n"
    }
   }
  },
  {
   "cell_type": "markdown",
   "source": [
    "Nuestro dataset tiene 20 columnas, donde la mayoría son de tipo string. Hay algunas columnas que tienen\n",
    "null values, pero no existen columnas donde un porcentaje mayor del 20% contenga null values. Hay columnas\n",
    "que tienen fechas que están en formato tipo string."
   ],
   "metadata": {
    "collapsed": false,
    "pycharm": {
     "name": "#%% md\n"
    }
   }
  },
  {
   "cell_type": "markdown",
   "source": [
    "## Limpieza de las columnas"
   ],
   "metadata": {
    "collapsed": false
   }
  },
  {
   "cell_type": "code",
   "execution_count": 3,
   "outputs": [
    {
     "data": {
      "text/plain": "Index(['dateCrawled', 'name', 'seller', 'offerType', 'price', 'abtest',\n       'vehicleType', 'yearOfRegistration', 'gearbox', 'powerPS', 'model',\n       'odometer', 'monthOfRegistration', 'fuelType', 'brand',\n       'notRepairedDamage', 'dateCreated', 'nrOfPictures', 'postalCode',\n       'lastSeen'],\n      dtype='object')"
     },
     "execution_count": 3,
     "metadata": {},
     "output_type": "execute_result"
    }
   ],
   "source": [
    "auto.columns"
   ],
   "metadata": {
    "collapsed": false,
    "pycharm": {
     "name": "#%%\n"
    }
   }
  },
  {
   "cell_type": "markdown",
   "source": [
    "Primero haremos par de cambios en las columnas:\n",
    "* Cambiar el nombre de la columnas de camel case a snake case.\n",
    "* Modificar un poco el nombre de algunas columnas para que tengas una descripción más precisa."
   ],
   "metadata": {
    "collapsed": false,
    "pycharm": {
     "name": "#%% md\n"
    }
   }
  },
  {
   "cell_type": "code",
   "source": [
    "auto.columns = ['date_crawled', 'name', 'seller', 'offer_type', 'price', 'ab_test',\n",
    "       'vehicle_type', 'registration_year', 'gearbox', 'power_ps', 'model',\n",
    "       'odometer', 'registration_month', 'fuel_type', 'brand',\n",
    "       'unrepaired_damage', 'ad_created', 'num_photos', 'postal_code',\n",
    "       'last_seen']\n",
    "auto.head()"
   ],
   "metadata": {
    "collapsed": false,
    "pycharm": {
     "name": "#%%\n"
    }
   },
   "execution_count": 4,
   "outputs": [
    {
     "data": {
      "text/plain": "          date_crawled                                               name  \\\n0  2016-03-26 17:47:46                   Peugeot_807_160_NAVTECH_ON_BOARD   \n1  2016-04-04 13:38:56         BMW_740i_4_4_Liter_HAMANN_UMBAU_Mega_Optik   \n2  2016-03-26 18:57:24                         Volkswagen_Golf_1.6_United   \n3  2016-03-12 16:58:10  Smart_smart_fortwo_coupe_softouch/F1/Klima/Pan...   \n4  2016-04-01 14:38:50  Ford_Focus_1_6_Benzin_TÜV_neu_ist_sehr_gepfleg...   \n\n   seller offer_type   price  ab_test vehicle_type  registration_year  \\\n0  privat    Angebot  $5,000  control          bus               2004   \n1  privat    Angebot  $8,500  control    limousine               1997   \n2  privat    Angebot  $8,990     test    limousine               2009   \n3  privat    Angebot  $4,350  control   kleinwagen               2007   \n4  privat    Angebot  $1,350     test        kombi               2003   \n\n     gearbox  power_ps   model   odometer  registration_month fuel_type  \\\n0    manuell       158  andere  150,000km                   3       lpg   \n1  automatik       286     7er  150,000km                   6    benzin   \n2    manuell       102    golf   70,000km                   7    benzin   \n3  automatik        71  fortwo   70,000km                   6    benzin   \n4    manuell         0   focus  150,000km                   7    benzin   \n\n        brand unrepaired_damage           ad_created  num_photos  postal_code  \\\n0     peugeot              nein  2016-03-26 00:00:00           0        79588   \n1         bmw              nein  2016-04-04 00:00:00           0        71034   \n2  volkswagen              nein  2016-03-26 00:00:00           0        35394   \n3       smart              nein  2016-03-12 00:00:00           0        33729   \n4        ford              nein  2016-04-01 00:00:00           0        39218   \n\n             last_seen  \n0  2016-04-06 06:45:54  \n1  2016-04-06 14:45:08  \n2  2016-04-06 20:15:37  \n3  2016-03-15 03:16:28  \n4  2016-04-01 14:38:50  ",
      "text/html": "<div>\n<style scoped>\n    .dataframe tbody tr th:only-of-type {\n        vertical-align: middle;\n    }\n\n    .dataframe tbody tr th {\n        vertical-align: top;\n    }\n\n    .dataframe thead th {\n        text-align: right;\n    }\n</style>\n<table border=\"1\" class=\"dataframe\">\n  <thead>\n    <tr style=\"text-align: right;\">\n      <th></th>\n      <th>date_crawled</th>\n      <th>name</th>\n      <th>seller</th>\n      <th>offer_type</th>\n      <th>price</th>\n      <th>ab_test</th>\n      <th>vehicle_type</th>\n      <th>registration_year</th>\n      <th>gearbox</th>\n      <th>power_ps</th>\n      <th>model</th>\n      <th>odometer</th>\n      <th>registration_month</th>\n      <th>fuel_type</th>\n      <th>brand</th>\n      <th>unrepaired_damage</th>\n      <th>ad_created</th>\n      <th>num_photos</th>\n      <th>postal_code</th>\n      <th>last_seen</th>\n    </tr>\n  </thead>\n  <tbody>\n    <tr>\n      <th>0</th>\n      <td>2016-03-26 17:47:46</td>\n      <td>Peugeot_807_160_NAVTECH_ON_BOARD</td>\n      <td>privat</td>\n      <td>Angebot</td>\n      <td>$5,000</td>\n      <td>control</td>\n      <td>bus</td>\n      <td>2004</td>\n      <td>manuell</td>\n      <td>158</td>\n      <td>andere</td>\n      <td>150,000km</td>\n      <td>3</td>\n      <td>lpg</td>\n      <td>peugeot</td>\n      <td>nein</td>\n      <td>2016-03-26 00:00:00</td>\n      <td>0</td>\n      <td>79588</td>\n      <td>2016-04-06 06:45:54</td>\n    </tr>\n    <tr>\n      <th>1</th>\n      <td>2016-04-04 13:38:56</td>\n      <td>BMW_740i_4_4_Liter_HAMANN_UMBAU_Mega_Optik</td>\n      <td>privat</td>\n      <td>Angebot</td>\n      <td>$8,500</td>\n      <td>control</td>\n      <td>limousine</td>\n      <td>1997</td>\n      <td>automatik</td>\n      <td>286</td>\n      <td>7er</td>\n      <td>150,000km</td>\n      <td>6</td>\n      <td>benzin</td>\n      <td>bmw</td>\n      <td>nein</td>\n      <td>2016-04-04 00:00:00</td>\n      <td>0</td>\n      <td>71034</td>\n      <td>2016-04-06 14:45:08</td>\n    </tr>\n    <tr>\n      <th>2</th>\n      <td>2016-03-26 18:57:24</td>\n      <td>Volkswagen_Golf_1.6_United</td>\n      <td>privat</td>\n      <td>Angebot</td>\n      <td>$8,990</td>\n      <td>test</td>\n      <td>limousine</td>\n      <td>2009</td>\n      <td>manuell</td>\n      <td>102</td>\n      <td>golf</td>\n      <td>70,000km</td>\n      <td>7</td>\n      <td>benzin</td>\n      <td>volkswagen</td>\n      <td>nein</td>\n      <td>2016-03-26 00:00:00</td>\n      <td>0</td>\n      <td>35394</td>\n      <td>2016-04-06 20:15:37</td>\n    </tr>\n    <tr>\n      <th>3</th>\n      <td>2016-03-12 16:58:10</td>\n      <td>Smart_smart_fortwo_coupe_softouch/F1/Klima/Pan...</td>\n      <td>privat</td>\n      <td>Angebot</td>\n      <td>$4,350</td>\n      <td>control</td>\n      <td>kleinwagen</td>\n      <td>2007</td>\n      <td>automatik</td>\n      <td>71</td>\n      <td>fortwo</td>\n      <td>70,000km</td>\n      <td>6</td>\n      <td>benzin</td>\n      <td>smart</td>\n      <td>nein</td>\n      <td>2016-03-12 00:00:00</td>\n      <td>0</td>\n      <td>33729</td>\n      <td>2016-03-15 03:16:28</td>\n    </tr>\n    <tr>\n      <th>4</th>\n      <td>2016-04-01 14:38:50</td>\n      <td>Ford_Focus_1_6_Benzin_TÜV_neu_ist_sehr_gepfleg...</td>\n      <td>privat</td>\n      <td>Angebot</td>\n      <td>$1,350</td>\n      <td>test</td>\n      <td>kombi</td>\n      <td>2003</td>\n      <td>manuell</td>\n      <td>0</td>\n      <td>focus</td>\n      <td>150,000km</td>\n      <td>7</td>\n      <td>benzin</td>\n      <td>ford</td>\n      <td>nein</td>\n      <td>2016-04-01 00:00:00</td>\n      <td>0</td>\n      <td>39218</td>\n      <td>2016-04-01 14:38:50</td>\n    </tr>\n  </tbody>\n</table>\n</div>"
     },
     "execution_count": 4,
     "metadata": {},
     "output_type": "execute_result"
    }
   ]
  },
  {
   "cell_type": "markdown",
   "source": [
    "Ahora comenzaremos la exploración de los datas para ubicar áreas obvias que necesiten limpieza."
   ],
   "metadata": {
    "collapsed": false
   }
  },
  {
   "cell_type": "code",
   "execution_count": 5,
   "outputs": [
    {
     "data": {
      "text/plain": "               date_crawled         name  seller offer_type  price ab_test  \\\ncount                 50000        50000   50000      50000  50000   50000   \nunique                48213        38754       2          2   2357       2   \ntop     2016-03-08 10:40:35  Ford_Fiesta  privat    Angebot     $0    test   \nfreq                      3           78   49999      49999   1421   25756   \nmean                    NaN          NaN     NaN        NaN    NaN     NaN   \nstd                     NaN          NaN     NaN        NaN    NaN     NaN   \nmin                     NaN          NaN     NaN        NaN    NaN     NaN   \n25%                     NaN          NaN     NaN        NaN    NaN     NaN   \n50%                     NaN          NaN     NaN        NaN    NaN     NaN   \n75%                     NaN          NaN     NaN        NaN    NaN     NaN   \nmax                     NaN          NaN     NaN        NaN    NaN     NaN   \n\n       vehicle_type  registration_year  gearbox      power_ps  model  \\\ncount         44905       50000.000000    47320  50000.000000  47242   \nunique            8                NaN        2           NaN    245   \ntop       limousine                NaN  manuell           NaN   golf   \nfreq          12859                NaN    36993           NaN   4024   \nmean            NaN        2005.073280      NaN    116.355920    NaN   \nstd             NaN         105.712813      NaN    209.216627    NaN   \nmin             NaN        1000.000000      NaN      0.000000    NaN   \n25%             NaN        1999.000000      NaN     70.000000    NaN   \n50%             NaN        2003.000000      NaN    105.000000    NaN   \n75%             NaN        2008.000000      NaN    150.000000    NaN   \nmax             NaN        9999.000000      NaN  17700.000000    NaN   \n\n         odometer  registration_month fuel_type       brand unrepaired_damage  \\\ncount       50000        50000.000000     45518       50000             40171   \nunique         13                 NaN         7          40                 2   \ntop     150,000km                 NaN    benzin  volkswagen              nein   \nfreq        32424                 NaN     30107       10687             35232   \nmean          NaN            5.723360       NaN         NaN               NaN   \nstd           NaN            3.711984       NaN         NaN               NaN   \nmin           NaN            0.000000       NaN         NaN               NaN   \n25%           NaN            3.000000       NaN         NaN               NaN   \n50%           NaN            6.000000       NaN         NaN               NaN   \n75%           NaN            9.000000       NaN         NaN               NaN   \nmax           NaN           12.000000       NaN         NaN               NaN   \n\n                 ad_created  num_photos   postal_code            last_seen  \ncount                 50000     50000.0  50000.000000                50000  \nunique                   76         NaN           NaN                39481  \ntop     2016-04-03 00:00:00         NaN           NaN  2016-04-07 06:17:27  \nfreq                   1946         NaN           NaN                    8  \nmean                    NaN         0.0  50813.627300                  NaN  \nstd                     NaN         0.0  25779.747957                  NaN  \nmin                     NaN         0.0   1067.000000                  NaN  \n25%                     NaN         0.0  30451.000000                  NaN  \n50%                     NaN         0.0  49577.000000                  NaN  \n75%                     NaN         0.0  71540.000000                  NaN  \nmax                     NaN         0.0  99998.000000                  NaN  ",
      "text/html": "<div>\n<style scoped>\n    .dataframe tbody tr th:only-of-type {\n        vertical-align: middle;\n    }\n\n    .dataframe tbody tr th {\n        vertical-align: top;\n    }\n\n    .dataframe thead th {\n        text-align: right;\n    }\n</style>\n<table border=\"1\" class=\"dataframe\">\n  <thead>\n    <tr style=\"text-align: right;\">\n      <th></th>\n      <th>date_crawled</th>\n      <th>name</th>\n      <th>seller</th>\n      <th>offer_type</th>\n      <th>price</th>\n      <th>ab_test</th>\n      <th>vehicle_type</th>\n      <th>registration_year</th>\n      <th>gearbox</th>\n      <th>power_ps</th>\n      <th>model</th>\n      <th>odometer</th>\n      <th>registration_month</th>\n      <th>fuel_type</th>\n      <th>brand</th>\n      <th>unrepaired_damage</th>\n      <th>ad_created</th>\n      <th>num_photos</th>\n      <th>postal_code</th>\n      <th>last_seen</th>\n    </tr>\n  </thead>\n  <tbody>\n    <tr>\n      <th>count</th>\n      <td>50000</td>\n      <td>50000</td>\n      <td>50000</td>\n      <td>50000</td>\n      <td>50000</td>\n      <td>50000</td>\n      <td>44905</td>\n      <td>50000.000000</td>\n      <td>47320</td>\n      <td>50000.000000</td>\n      <td>47242</td>\n      <td>50000</td>\n      <td>50000.000000</td>\n      <td>45518</td>\n      <td>50000</td>\n      <td>40171</td>\n      <td>50000</td>\n      <td>50000.0</td>\n      <td>50000.000000</td>\n      <td>50000</td>\n    </tr>\n    <tr>\n      <th>unique</th>\n      <td>48213</td>\n      <td>38754</td>\n      <td>2</td>\n      <td>2</td>\n      <td>2357</td>\n      <td>2</td>\n      <td>8</td>\n      <td>NaN</td>\n      <td>2</td>\n      <td>NaN</td>\n      <td>245</td>\n      <td>13</td>\n      <td>NaN</td>\n      <td>7</td>\n      <td>40</td>\n      <td>2</td>\n      <td>76</td>\n      <td>NaN</td>\n      <td>NaN</td>\n      <td>39481</td>\n    </tr>\n    <tr>\n      <th>top</th>\n      <td>2016-03-08 10:40:35</td>\n      <td>Ford_Fiesta</td>\n      <td>privat</td>\n      <td>Angebot</td>\n      <td>$0</td>\n      <td>test</td>\n      <td>limousine</td>\n      <td>NaN</td>\n      <td>manuell</td>\n      <td>NaN</td>\n      <td>golf</td>\n      <td>150,000km</td>\n      <td>NaN</td>\n      <td>benzin</td>\n      <td>volkswagen</td>\n      <td>nein</td>\n      <td>2016-04-03 00:00:00</td>\n      <td>NaN</td>\n      <td>NaN</td>\n      <td>2016-04-07 06:17:27</td>\n    </tr>\n    <tr>\n      <th>freq</th>\n      <td>3</td>\n      <td>78</td>\n      <td>49999</td>\n      <td>49999</td>\n      <td>1421</td>\n      <td>25756</td>\n      <td>12859</td>\n      <td>NaN</td>\n      <td>36993</td>\n      <td>NaN</td>\n      <td>4024</td>\n      <td>32424</td>\n      <td>NaN</td>\n      <td>30107</td>\n      <td>10687</td>\n      <td>35232</td>\n      <td>1946</td>\n      <td>NaN</td>\n      <td>NaN</td>\n      <td>8</td>\n    </tr>\n    <tr>\n      <th>mean</th>\n      <td>NaN</td>\n      <td>NaN</td>\n      <td>NaN</td>\n      <td>NaN</td>\n      <td>NaN</td>\n      <td>NaN</td>\n      <td>NaN</td>\n      <td>2005.073280</td>\n      <td>NaN</td>\n      <td>116.355920</td>\n      <td>NaN</td>\n      <td>NaN</td>\n      <td>5.723360</td>\n      <td>NaN</td>\n      <td>NaN</td>\n      <td>NaN</td>\n      <td>NaN</td>\n      <td>0.0</td>\n      <td>50813.627300</td>\n      <td>NaN</td>\n    </tr>\n    <tr>\n      <th>std</th>\n      <td>NaN</td>\n      <td>NaN</td>\n      <td>NaN</td>\n      <td>NaN</td>\n      <td>NaN</td>\n      <td>NaN</td>\n      <td>NaN</td>\n      <td>105.712813</td>\n      <td>NaN</td>\n      <td>209.216627</td>\n      <td>NaN</td>\n      <td>NaN</td>\n      <td>3.711984</td>\n      <td>NaN</td>\n      <td>NaN</td>\n      <td>NaN</td>\n      <td>NaN</td>\n      <td>0.0</td>\n      <td>25779.747957</td>\n      <td>NaN</td>\n    </tr>\n    <tr>\n      <th>min</th>\n      <td>NaN</td>\n      <td>NaN</td>\n      <td>NaN</td>\n      <td>NaN</td>\n      <td>NaN</td>\n      <td>NaN</td>\n      <td>NaN</td>\n      <td>1000.000000</td>\n      <td>NaN</td>\n      <td>0.000000</td>\n      <td>NaN</td>\n      <td>NaN</td>\n      <td>0.000000</td>\n      <td>NaN</td>\n      <td>NaN</td>\n      <td>NaN</td>\n      <td>NaN</td>\n      <td>0.0</td>\n      <td>1067.000000</td>\n      <td>NaN</td>\n    </tr>\n    <tr>\n      <th>25%</th>\n      <td>NaN</td>\n      <td>NaN</td>\n      <td>NaN</td>\n      <td>NaN</td>\n      <td>NaN</td>\n      <td>NaN</td>\n      <td>NaN</td>\n      <td>1999.000000</td>\n      <td>NaN</td>\n      <td>70.000000</td>\n      <td>NaN</td>\n      <td>NaN</td>\n      <td>3.000000</td>\n      <td>NaN</td>\n      <td>NaN</td>\n      <td>NaN</td>\n      <td>NaN</td>\n      <td>0.0</td>\n      <td>30451.000000</td>\n      <td>NaN</td>\n    </tr>\n    <tr>\n      <th>50%</th>\n      <td>NaN</td>\n      <td>NaN</td>\n      <td>NaN</td>\n      <td>NaN</td>\n      <td>NaN</td>\n      <td>NaN</td>\n      <td>NaN</td>\n      <td>2003.000000</td>\n      <td>NaN</td>\n      <td>105.000000</td>\n      <td>NaN</td>\n      <td>NaN</td>\n      <td>6.000000</td>\n      <td>NaN</td>\n      <td>NaN</td>\n      <td>NaN</td>\n      <td>NaN</td>\n      <td>0.0</td>\n      <td>49577.000000</td>\n      <td>NaN</td>\n    </tr>\n    <tr>\n      <th>75%</th>\n      <td>NaN</td>\n      <td>NaN</td>\n      <td>NaN</td>\n      <td>NaN</td>\n      <td>NaN</td>\n      <td>NaN</td>\n      <td>NaN</td>\n      <td>2008.000000</td>\n      <td>NaN</td>\n      <td>150.000000</td>\n      <td>NaN</td>\n      <td>NaN</td>\n      <td>9.000000</td>\n      <td>NaN</td>\n      <td>NaN</td>\n      <td>NaN</td>\n      <td>NaN</td>\n      <td>0.0</td>\n      <td>71540.000000</td>\n      <td>NaN</td>\n    </tr>\n    <tr>\n      <th>max</th>\n      <td>NaN</td>\n      <td>NaN</td>\n      <td>NaN</td>\n      <td>NaN</td>\n      <td>NaN</td>\n      <td>NaN</td>\n      <td>NaN</td>\n      <td>9999.000000</td>\n      <td>NaN</td>\n      <td>17700.000000</td>\n      <td>NaN</td>\n      <td>NaN</td>\n      <td>12.000000</td>\n      <td>NaN</td>\n      <td>NaN</td>\n      <td>NaN</td>\n      <td>NaN</td>\n      <td>0.0</td>\n      <td>99998.000000</td>\n      <td>NaN</td>\n    </tr>\n  </tbody>\n</table>\n</div>"
     },
     "execution_count": 5,
     "metadata": {},
     "output_type": "execute_result"
    }
   ],
   "source": [
    "auto.describe(include=\"all\")"
   ],
   "metadata": {
    "collapsed": false,
    "pycharm": {
     "name": "#%%\n"
    }
   }
  },
  {
   "cell_type": "markdown",
   "source": [
    "Inicialmente podemos observar lo siguiente:\n",
    "* Hay columnas con la misma información.\n",
    "    * seller\n",
    "    * offer_type\n",
    "* La columna num_photos parece extraña hay que indagar un poco mas al respecto."
   ],
   "metadata": {
    "collapsed": false
   }
  },
  {
   "cell_type": "code",
   "execution_count": 6,
   "outputs": [
    {
     "name": "stdout",
     "output_type": "stream",
     "text": [
      "0    50000\n",
      "Name: num_photos, dtype: int64 \n",
      "\n",
      "privat        49999\n",
      "gewerblich        1\n",
      "Name: seller, dtype: int64 \n",
      "\n",
      "Angebot    49999\n",
      "Gesuch         1\n",
      "Name: offer_type, dtype: int64 \n",
      "\n"
     ]
    }
   ],
   "source": [
    "print(auto.loc[:, \"num_photos\"].value_counts(), \"\\n\")\n",
    "print(auto.loc[:, \"seller\"].value_counts(), \"\\n\")\n",
    "print(auto.loc[:, \"offer_type\"].value_counts(), \"\\n\")\n"
   ],
   "metadata": {
    "collapsed": false,
    "pycharm": {
     "name": "#%%\n"
    }
   }
  },
  {
   "cell_type": "markdown",
   "source": [
    "Al parecer la columna num_photos tiene un único valor de cero (0) para cada uno de los clasificados, por\n",
    "esta razón la eliminaremos.\n",
    "\n",
    "De igual forma vamos a eliminar las columnas seller y offer_type, ya que no ofrecen información relevante y\n",
    "podemos prescindir de ellas sin ningún tipo de problemas."
   ],
   "metadata": {
    "collapsed": false
   }
  },
  {
   "cell_type": "code",
   "source": [
    "auto = auto.drop([\"seller\", \"offer_type\", \"num_photos\"], axis=1)\n",
    "print(auto.head())"
   ],
   "metadata": {
    "collapsed": false,
    "pycharm": {
     "name": "#%%\n"
    }
   },
   "execution_count": 7,
   "outputs": [
    {
     "name": "stdout",
     "output_type": "stream",
     "text": [
      "          date_crawled                                               name  \\\n",
      "0  2016-03-26 17:47:46                   Peugeot_807_160_NAVTECH_ON_BOARD   \n",
      "1  2016-04-04 13:38:56         BMW_740i_4_4_Liter_HAMANN_UMBAU_Mega_Optik   \n",
      "2  2016-03-26 18:57:24                         Volkswagen_Golf_1.6_United   \n",
      "3  2016-03-12 16:58:10  Smart_smart_fortwo_coupe_softouch/F1/Klima/Pan...   \n",
      "4  2016-04-01 14:38:50  Ford_Focus_1_6_Benzin_TÜV_neu_ist_sehr_gepfleg...   \n",
      "\n",
      "    price  ab_test vehicle_type  registration_year    gearbox  power_ps  \\\n",
      "0  $5,000  control          bus               2004    manuell       158   \n",
      "1  $8,500  control    limousine               1997  automatik       286   \n",
      "2  $8,990     test    limousine               2009    manuell       102   \n",
      "3  $4,350  control   kleinwagen               2007  automatik        71   \n",
      "4  $1,350     test        kombi               2003    manuell         0   \n",
      "\n",
      "    model   odometer  registration_month fuel_type       brand  \\\n",
      "0  andere  150,000km                   3       lpg     peugeot   \n",
      "1     7er  150,000km                   6    benzin         bmw   \n",
      "2    golf   70,000km                   7    benzin  volkswagen   \n",
      "3  fortwo   70,000km                   6    benzin       smart   \n",
      "4   focus  150,000km                   7    benzin        ford   \n",
      "\n",
      "  unrepaired_damage           ad_created  postal_code            last_seen  \n",
      "0              nein  2016-03-26 00:00:00        79588  2016-04-06 06:45:54  \n",
      "1              nein  2016-04-04 00:00:00        71034  2016-04-06 14:45:08  \n",
      "2              nein  2016-03-26 00:00:00        35394  2016-04-06 20:15:37  \n",
      "3              nein  2016-03-12 00:00:00        33729  2016-03-15 03:16:28  \n",
      "4              nein  2016-04-01 00:00:00        39218  2016-04-01 14:38:50  \n"
     ]
    }
   ]
  },
  {
   "cell_type": "markdown",
   "source": [
    "Podemos ver que en la columna price, que es númerica tiene par de caracteres el \"$\" y \",\"\n",
    "que deben ser eliminados para convertir a la columna a tipo integer (int).\n",
    "\n",
    "De igual forma vemos que odometer que es una columna númerica tiene un caracter \",\" y la palabra \"km\"\n",
    "que debe de ser eliminados para que la columna pueda convertirse a tipo integer sin problemas."
   ],
   "metadata": {
    "collapsed": false,
    "pycharm": {
     "name": "#%% md\n"
    }
   }
  },
  {
   "cell_type": "code",
   "execution_count": 8,
   "outputs": [
    {
     "name": "stdout",
     "output_type": "stream",
     "text": [
      "   price  odometer_km\n",
      "0   5000       150000\n",
      "1   8500       150000\n",
      "2   8990        70000\n",
      "3   4350        70000\n",
      "4   1350       150000\n"
     ]
    }
   ],
   "source": [
    "auto.loc[:,\"price\"] = auto.loc[:,\"price\"].str.replace(\",\", \"\")\n",
    "auto.loc[:,\"price\"] = auto.loc[:,\"price\"].str.replace(\"$\", \"\")\n",
    "auto.loc[:,\"price\"] = auto.loc[:,\"price\"].astype(int)\n",
    "\n",
    "auto.loc[:,\"odometer\"] = auto.loc[:,\"odometer\"].str.replace(\"km\", \"\")\n",
    "auto.loc[:,\"odometer\"] = auto.loc[:,\"odometer\"].str.replace(\",\", \"\")\n",
    "auto.loc[:,\"odometer\"] = auto.loc[:,\"odometer\"].astype(int)\n",
    "\n",
    "auto.rename({\"odometer\": \"odometer_km\"}, axis=1, inplace=True)\n",
    "print(auto.loc[:,[\"price\", \"odometer_km\"]].head())"
   ],
   "metadata": {
    "collapsed": false,
    "pycharm": {
     "name": "#%%\n"
    }
   }
  },
  {
   "cell_type": "markdown",
   "source": [
    "## Explorando \"odometer_km\" y \"price\""
   ],
   "metadata": {
    "collapsed": false
   }
  },
  {
   "cell_type": "code",
   "execution_count": 9,
   "outputs": [
    {
     "name": "stdout",
     "output_type": "stream",
     "text": [
      "150000    32424\n",
      "125000     5170\n",
      "100000     2169\n",
      "90000      1757\n",
      "80000      1436\n",
      "70000      1230\n",
      "60000      1164\n",
      "50000      1027\n",
      "5000        967\n",
      "40000       819\n",
      "30000       789\n",
      "20000       784\n",
      "10000       264\n",
      "Name: odometer_km, dtype: int64\n"
     ]
    }
   ],
   "source": [
    "print(auto.loc[:,\"odometer_km\"].value_counts())"
   ],
   "metadata": {
    "collapsed": false,
    "pycharm": {
     "name": "#%%\n"
    }
   }
  },
  {
   "cell_type": "markdown",
   "source": [
    "Podemos ver que los valores para el kilometraje está preestablecidos en la página de eBay, lo que nos\n",
    "indica que es probable que los dueños tiene un opción pre-clasificada al momento de realizar la\n",
    "publicación. De igual forma podemos observar que hay más vehículos de alto kilometraje que de bajo\n",
    "kilometraje.\n"
   ],
   "metadata": {
    "collapsed": false
   }
  },
  {
   "cell_type": "code",
   "execution_count": 10,
   "outputs": [
    {
     "name": "stdout",
     "output_type": "stream",
     "text": [
      "(2357,) \n",
      "\n",
      "count    5.000000e+04\n",
      "mean     9.840044e+03\n",
      "std      4.811044e+05\n",
      "min      0.000000e+00\n",
      "25%      1.100000e+03\n",
      "50%      2.950000e+03\n",
      "75%      7.200000e+03\n",
      "max      1.000000e+08\n",
      "Name: price, dtype: float64 \n",
      "\n",
      "0       1421\n",
      "500      781\n",
      "1500     734\n",
      "2500     643\n",
      "1000     639\n",
      "1200     639\n",
      "600      531\n",
      "800      498\n",
      "3500     498\n",
      "2000     460\n",
      "999      434\n",
      "750      433\n",
      "900      420\n",
      "650      419\n",
      "850      410\n",
      "700      395\n",
      "4500     394\n",
      "300      384\n",
      "2200     382\n",
      "950      379\n",
      "Name: price, dtype: int64\n"
     ]
    }
   ],
   "source": [
    "print(auto.loc[:,\"price\"].unique().shape,\"\\n\")\n",
    "print(auto.loc[:,\"price\"].describe(), \"\\n\")\n",
    "print(auto.loc[:,\"price\"].value_counts().head(20))"
   ],
   "metadata": {
    "collapsed": false,
    "pycharm": {
     "name": "#%%\n"
    }
   }
  },
  {
   "cell_type": "markdown",
   "source": [
    "Otra vez podemos observar que al existir sólo 2347 datos únicos podemos decir que el kilometraje\n",
    "se encuentra redondeado, es probable que las personas que publican tengan la tendencia de redondear los\n",
    "precios. Hay 1421 autos con un precio de 0, que representa solamente un 2% de la muestra total, podemos\n",
    "considerar quitar esta fila. También podemos observar que el precio máximo es de 100 millones"
   ],
   "metadata": {
    "collapsed": false
   }
  },
  {
   "cell_type": "code",
   "source": [
    "print(auto.loc[:,\"price\"].value_counts().sort_index(ascending=False).head(20), \"\\n\")\n",
    "print(auto.loc[:,\"price\"].value_counts().sort_index(ascending=True).head(20))\n"
   ],
   "metadata": {
    "collapsed": false,
    "pycharm": {
     "name": "#%%\n"
    }
   },
   "execution_count": 11,
   "outputs": [
    {
     "name": "stdout",
     "output_type": "stream",
     "text": [
      "99999999    1\n",
      "27322222    1\n",
      "12345678    3\n",
      "11111111    2\n",
      "10000000    1\n",
      "3890000     1\n",
      "1300000     1\n",
      "1234566     1\n",
      "999999      2\n",
      "999990      1\n",
      "350000      1\n",
      "345000      1\n",
      "299000      1\n",
      "295000      1\n",
      "265000      1\n",
      "259000      1\n",
      "250000      1\n",
      "220000      1\n",
      "198000      1\n",
      "197000      1\n",
      "Name: price, dtype: int64 \n",
      "\n",
      "0     1421\n",
      "1      156\n",
      "2        3\n",
      "3        1\n",
      "5        2\n",
      "8        1\n",
      "9        1\n",
      "10       7\n",
      "11       2\n",
      "12       3\n",
      "13       2\n",
      "14       1\n",
      "15       2\n",
      "17       3\n",
      "18       1\n",
      "20       4\n",
      "25       5\n",
      "29       1\n",
      "30       7\n",
      "35       1\n",
      "Name: price, dtype: int64\n"
     ]
    }
   ]
  },
  {
   "cell_type": "markdown",
   "source": [
    "Podemos observar que hay una lista de precio de 0 a 35  y mas de 1500 autos publicados entre 0 - 1 , es\n",
    "de observar que hay muy pocos autos a precios muy altos, alrededor de 14 autos rondan mas del millón. Dado\n",
    "que eBay es un sitio  de puja es legítimo que existan autos con una oferta inicial de 1, tomando las\n",
    "premisas anteriores vamos a poner como tope 351000$ como monto máximo en este análisis, ya que el precio\n",
    "aumenta de manera constante hasta ese monto y luego se va a precios poco realistas (100 millones por\n",
    "ejemplo)"
   ],
   "metadata": {
    "collapsed": false
   }
  },
  {
   "cell_type": "code",
   "source": [
    "auto = auto.loc[auto.loc[:,\"price\"].between(1,351000),:]\n",
    "print(auto.loc[:, \"price\"].describe())\n"
   ],
   "metadata": {
    "collapsed": false,
    "pycharm": {
     "name": "#%%\n"
    }
   },
   "execution_count": 12,
   "outputs": [
    {
     "name": "stdout",
     "output_type": "stream",
     "text": [
      "count     48565.000000\n",
      "mean       5888.935591\n",
      "std        9059.854754\n",
      "min           1.000000\n",
      "25%        1200.000000\n",
      "50%        3000.000000\n",
      "75%        7490.000000\n",
      "max      350000.000000\n",
      "Name: price, dtype: float64\n"
     ]
    }
   ]
  },
  {
   "cell_type": "markdown",
   "source": [
    "## Explorando la columna date\n",
    "Podemos ver que hay varias columnas que tiene formato de fecha y son de tipo string como las siguientes:\n",
    "* date_crawled\n",
    "* registration_month\n",
    "* registration_year\n",
    "* ad_created\n",
    "* last_seen"
   ],
   "metadata": {
    "collapsed": false
   }
  },
  {
   "cell_type": "code",
   "execution_count": 13,
   "outputs": [
    {
     "name": "stdout",
     "output_type": "stream",
     "text": [
      "          date_crawled           ad_created            last_seen\n",
      "0  2016-03-26 17:47:46  2016-03-26 00:00:00  2016-04-06 06:45:54\n",
      "1  2016-04-04 13:38:56  2016-04-04 00:00:00  2016-04-06 14:45:08\n",
      "2  2016-03-26 18:57:24  2016-03-26 00:00:00  2016-04-06 20:15:37\n",
      "3  2016-03-12 16:58:10  2016-03-12 00:00:00  2016-03-15 03:16:28\n",
      "4  2016-04-01 14:38:50  2016-04-01 00:00:00  2016-04-01 14:38:50 \n",
      "\n",
      "2016-03-05    0.025327\n",
      "2016-03-06    0.014043\n",
      "2016-03-07    0.036014\n",
      "2016-03-08    0.033296\n",
      "2016-03-09    0.033090\n",
      "2016-03-10    0.032184\n",
      "2016-03-11    0.032575\n",
      "2016-03-12    0.036920\n",
      "2016-03-13    0.015670\n",
      "2016-03-14    0.036549\n",
      "2016-03-15    0.034284\n",
      "2016-03-16    0.029610\n",
      "2016-03-17    0.031628\n",
      "2016-03-18    0.012911\n",
      "2016-03-19    0.034778\n",
      "2016-03-20    0.037887\n",
      "2016-03-21    0.037373\n",
      "2016-03-22    0.032987\n",
      "2016-03-23    0.032225\n",
      "2016-03-24    0.029342\n",
      "2016-03-25    0.031607\n",
      "2016-03-26    0.032204\n",
      "2016-03-27    0.031092\n",
      "2016-03-28    0.034860\n",
      "2016-03-29    0.034099\n",
      "2016-03-30    0.033687\n",
      "2016-03-31    0.031834\n",
      "2016-04-01    0.033687\n",
      "2016-04-02    0.035478\n",
      "2016-04-03    0.038608\n",
      "2016-04-04    0.036487\n",
      "2016-04-05    0.013096\n",
      "2016-04-06    0.003171\n",
      "2016-04-07    0.001400\n",
      "Name: date_crawled, dtype: float64 \n",
      "\n",
      "2016-04-07    0.001400\n",
      "2016-04-06    0.003171\n",
      "2016-03-18    0.012911\n",
      "2016-04-05    0.013096\n",
      "2016-03-06    0.014043\n",
      "2016-03-13    0.015670\n",
      "2016-03-05    0.025327\n",
      "2016-03-24    0.029342\n",
      "2016-03-16    0.029610\n",
      "2016-03-27    0.031092\n",
      "2016-03-25    0.031607\n",
      "2016-03-17    0.031628\n",
      "2016-03-31    0.031834\n",
      "2016-03-10    0.032184\n",
      "2016-03-26    0.032204\n",
      "2016-03-23    0.032225\n",
      "2016-03-11    0.032575\n",
      "2016-03-22    0.032987\n",
      "2016-03-09    0.033090\n",
      "2016-03-08    0.033296\n",
      "2016-03-30    0.033687\n",
      "2016-04-01    0.033687\n",
      "2016-03-29    0.034099\n",
      "2016-03-15    0.034284\n",
      "2016-03-19    0.034778\n",
      "2016-03-28    0.034860\n",
      "2016-04-02    0.035478\n",
      "2016-03-07    0.036014\n",
      "2016-04-04    0.036487\n",
      "2016-03-14    0.036549\n",
      "2016-03-12    0.036920\n",
      "2016-03-21    0.037373\n",
      "2016-03-20    0.037887\n",
      "2016-04-03    0.038608\n",
      "Name: date_crawled, dtype: float64 \n",
      "\n"
     ]
    }
   ],
   "source": [
    "print(auto.loc[:,[\"date_crawled\", \"ad_created\", \"last_seen\"]].head(5), \"\\n\")\n",
    "print(auto.loc[:, \"date_crawled\"].str[0:10].value_counts(normalize=True, dropna=False).sort_index(), \"\\n\")\n",
    "print(auto.loc[:, \"date_crawled\"].str[0:10].value_counts(normalize=True, dropna=False).sort_values(), \"\\n\")\n"
   ],
   "metadata": {
    "collapsed": false,
    "pycharm": {
     "name": "#%%\n"
    }
   }
  },
  {
   "cell_type": "markdown",
   "source": [
    "Podemos ver que a partir del de 10 de marzo hasta mediados de abril una cantidad constante de vendedores,\n",
    "colocaron en venta sus autos, esto lo podemos ver en la distribución que hicimos al normalizar los valores\n",
    "de value_count.\n"
   ],
   "metadata": {
    "collapsed": false
   }
  },
  {
   "cell_type": "code",
   "execution_count": 14,
   "outputs": [
    {
     "name": "stdout",
     "output_type": "stream",
     "text": [
      "2016-03-05    0.001071\n",
      "2016-03-06    0.004324\n",
      "2016-03-07    0.005395\n",
      "2016-03-08    0.007413\n",
      "2016-03-09    0.009595\n",
      "2016-03-10    0.010666\n",
      "2016-03-11    0.012375\n",
      "2016-03-12    0.023783\n",
      "2016-03-13    0.008895\n",
      "2016-03-14    0.012602\n",
      "2016-03-15    0.015876\n",
      "2016-03-16    0.016452\n",
      "2016-03-17    0.028086\n",
      "2016-03-18    0.007351\n",
      "2016-03-19    0.015834\n",
      "2016-03-20    0.020653\n",
      "2016-03-21    0.020632\n",
      "2016-03-22    0.021373\n",
      "2016-03-23    0.018532\n",
      "2016-03-24    0.019767\n",
      "2016-03-25    0.019211\n",
      "2016-03-26    0.016802\n",
      "2016-03-27    0.015649\n",
      "2016-03-28    0.020859\n",
      "2016-03-29    0.022341\n",
      "2016-03-30    0.024771\n",
      "2016-03-31    0.023783\n",
      "2016-04-01    0.022794\n",
      "2016-04-02    0.024915\n",
      "2016-04-03    0.025203\n",
      "2016-04-04    0.024483\n",
      "2016-04-05    0.124761\n",
      "2016-04-06    0.221806\n",
      "2016-04-07    0.131947\n",
      "Name: last_seen, dtype: float64 \n",
      "\n"
     ]
    }
   ],
   "source": [
    "print(auto.loc[:, \"last_seen\"].str[0:10].value_counts(normalize=True, dropna=False).sort_index(), \"\\n\")"
   ],
   "metadata": {
    "collapsed": false,
    "pycharm": {
     "name": "#%%\n"
    }
   }
  },
  {
   "cell_type": "markdown",
   "source": [
    "El sitio web registra el día en que el dueño de un auto vió la publicación por última vez lo que nos permite\n",
    "identificar cual el anuncio fue retirado bajo la suposición de que el auto fue vendido.\n",
    "\n",
    "Los últimos dias (05,06,07 de abril) contienen un cantidad desproporcionada de last seen respecto a los días\n",
    "anteriores, dado que las que la cantidad de last seen en estos días es 6-10 veces mayor respecto a los días\n",
    "anteriores, es poco probable que esxistiese un pico masivo de ventas durante esos tres días esto nos muestra\n",
    "un claro indicativo que tiene que ver con la finalización del anuncio y no la venta de un auto."
   ],
   "metadata": {
    "collapsed": false
   }
  },
  {
   "cell_type": "code",
   "execution_count": 15,
   "outputs": [
    {
     "name": "stdout",
     "output_type": "stream",
     "text": [
      "2015-06-11    0.000021\n",
      "2015-08-10    0.000021\n",
      "2015-09-09    0.000021\n",
      "2015-11-10    0.000021\n",
      "2015-12-05    0.000021\n",
      "                ...   \n",
      "2016-04-03    0.038855\n",
      "2016-04-04    0.036858\n",
      "2016-04-05    0.011819\n",
      "2016-04-06    0.003253\n",
      "2016-04-07    0.001256\n",
      "Name: ad_created, Length: 76, dtype: float64\n"
     ]
    }
   ],
   "source": [
    "#print(auto.loc[:,\"ad_created\"].str[0:10].unique().shape, \"\\n\")\n",
    "print(auto.loc[:, \"ad_created\"].str[0:10].value_counts(normalize=True, dropna=False).sort_index())\n"
   ],
   "metadata": {
    "collapsed": false,
    "pycharm": {
     "name": "#%%\n"
    }
   }
  },
  {
   "cell_type": "markdown",
   "source": [
    "Hay una amplia variedad de días de creación de anuncios para la venta de carros usados, son un poco mas de dos\n",
    "meses aproximadamente, la mayoría de los anuncios tienes una antiguedad de creación de 1-2 meses, hay algunos\n",
    "que son muy viejos con el anuncio mas viejo que tiene una antiguedad de 9 meses aproximadamente."
   ],
   "metadata": {
    "collapsed": false
   }
  },
  {
   "cell_type": "code",
   "source": [
    "auto.loc[:,\"registration_year\"].describe()"
   ],
   "metadata": {
    "collapsed": false,
    "pycharm": {
     "name": "#%%\n"
    }
   },
   "execution_count": 16,
   "outputs": [
    {
     "data": {
      "text/plain": "count    48565.000000\nmean      2004.755421\nstd         88.643887\nmin       1000.000000\n25%       1999.000000\n50%       2004.000000\n75%       2008.000000\nmax       9999.000000\nName: registration_year, dtype: float64"
     },
     "execution_count": 16,
     "metadata": {},
     "output_type": "execute_result"
    }
   ]
  },
  {
   "cell_type": "markdown",
   "source": [
    "El día cuando el auto fue registrado por primera vez indica la edad de éste, observando la información tenemos\n",
    "datos que lucen extraños, el valor mínimo es de 1000, mucho antes en que los autos fueron inventados,\n",
    "y tenemos como valor máximo 9999 mucho mas adelante en el futuro."
   ],
   "metadata": {
    "collapsed": false
   }
  },
  {
   "cell_type": "markdown",
   "source": [
    " ## Tratamiendo de registration year con datos incorrectos\n",
    "Todo auto con una fecha de registro por encima del año 2016 es inpreciso, averiguar exactamente cuando fue\n",
    "creado el primer auto es un poco difícil pero fue durante las primeras décadas de 1900, la opción mas viable\n",
    "es eliminar estos anuncios cono estas fechas, vamos a determinar cual es el porcentaje de data errónea tenemos\n",
    "para determinar si eliminamos o no los registros."
   ],
   "metadata": {
    "collapsed": false
   }
  },
  {
   "cell_type": "code",
   "execution_count": 17,
   "outputs": [
    {
     "name": "stdout",
     "output_type": "stream",
     "text": [
      "0.038793369710697\n"
     ]
    }
   ],
   "source": [
    "print((~auto.loc[:,\"registration_year\"].between(1900, 2016)).sum()/auto.shape[0])"
   ],
   "metadata": {
    "collapsed": false,
    "pycharm": {
     "name": "#%%\n"
    }
   }
  },
  {
   "cell_type": "markdown",
   "source": [
    "Como representa menos del 4%, vamos a remover todos aquellos auntos que no se encuentren dentro del rango\n",
    "1900 a 2016.\n"
   ],
   "metadata": {
    "collapsed": false
   }
  },
  {
   "cell_type": "code",
   "source": [
    "auto = auto.loc[auto.loc[:,\"registration_year\"].between(1900,2016),:]\n",
    "print(auto.loc[:,\"registration_year\"].value_counts(normalize=True).sort_index(), \"\\n\")\n",
    "print(auto.loc[:,\"registration_year\"].value_counts(normalize=True).sort_index(ascending=False).head(20))\n",
    "print(auto.loc[:,\"registration_year\"].value_counts(normalize=True).sort_index(ascending=False).head(20).sum())"
   ],
   "metadata": {
    "collapsed": false,
    "pycharm": {
     "name": "#%%\n"
    }
   },
   "execution_count": 18,
   "outputs": [
    {
     "name": "stdout",
     "output_type": "stream",
     "text": [
      "1910    0.000107\n",
      "1927    0.000021\n",
      "1929    0.000021\n",
      "1931    0.000021\n",
      "1934    0.000043\n",
      "          ...   \n",
      "2012    0.028063\n",
      "2013    0.017202\n",
      "2014    0.014203\n",
      "2015    0.008397\n",
      "2016    0.026135\n",
      "Name: registration_year, Length: 78, dtype: float64 \n",
      "\n",
      "2016    0.026135\n",
      "2015    0.008397\n",
      "2014    0.014203\n",
      "2013    0.017202\n",
      "2012    0.028063\n",
      "2011    0.034768\n",
      "2010    0.034040\n",
      "2009    0.044665\n",
      "2008    0.047450\n",
      "2007    0.048778\n",
      "2006    0.057197\n",
      "2005    0.062895\n",
      "2004    0.057904\n",
      "2003    0.057818\n",
      "2002    0.053255\n",
      "2001    0.056468\n",
      "2000    0.067608\n",
      "1999    0.062060\n",
      "1998    0.050620\n",
      "1997    0.041794\n",
      "Name: registration_year, dtype: float64\n",
      "0.8713180951564876\n"
     ]
    }
   ]
  },
  {
   "cell_type": "markdown",
   "source": [
    "Se puede inferir que la mayoría de los autos (aproximadamente 87%) fueron registrados en los ultimos 20 años."
   ],
   "metadata": {
    "collapsed": false
   }
  },
  {
   "cell_type": "markdown",
   "source": [
    "## Explorando precios de autos por marca\n"
   ],
   "metadata": {
    "collapsed": false,
    "pycharm": {
     "name": "#%% md\n"
    }
   }
  },
  {
   "cell_type": "code",
   "execution_count": 19,
   "outputs": [
    {
     "name": "stdout",
     "output_type": "stream",
     "text": [
      "volkswagen        0.211264\n",
      "bmw               0.110045\n",
      "opel              0.107581\n",
      "mercedes_benz     0.096463\n",
      "audi              0.086566\n",
      "ford              0.069900\n",
      "renault           0.047150\n",
      "peugeot           0.029841\n",
      "fiat              0.025642\n",
      "seat              0.018273\n",
      "skoda             0.016409\n",
      "nissan            0.015274\n",
      "mazda             0.015188\n",
      "smart             0.014160\n",
      "citroen           0.014010\n",
      "toyota            0.012703\n",
      "hyundai           0.010025\n",
      "sonstige_autos    0.009811\n",
      "volvo             0.009147\n",
      "mini              0.008762\n",
      "mitsubishi        0.008226\n",
      "honda             0.007840\n",
      "kia               0.007069\n",
      "alfa_romeo        0.006641\n",
      "porsche           0.006127\n",
      "suzuki            0.005934\n",
      "chevrolet         0.005698\n",
      "chrysler          0.003513\n",
      "dacia             0.002635\n",
      "daihatsu          0.002506\n",
      "jeep              0.002271\n",
      "subaru            0.002142\n",
      "land_rover        0.002099\n",
      "saab              0.001649\n",
      "jaguar            0.001564\n",
      "daewoo            0.001500\n",
      "trabant           0.001392\n",
      "rover             0.001328\n",
      "lancia            0.001071\n",
      "lada              0.000578\n",
      "Name: brand, dtype: float64\n"
     ]
    }
   ],
   "source": [
    "print(auto.loc[:,\"brand\"].value_counts(normalize=True))"
   ],
   "metadata": {
    "collapsed": false,
    "pycharm": {
     "name": "#%%\n"
    }
   }
  },
  {
   "cell_type": "markdown",
   "source": [
    "Las ensambladoras alemanas conforman el top 5 en marcas de autos, estas son primero volkswagen, bmw, opel,\n",
    "mercedes benz, y en la quinta casilla se encuentra audi. Estas 5 marcas representan aproximadamente el 50%,\n",
    "de los autos publicados. Podemos ver que volkswagen por lejos es la marca de autos mas popular en el site de\n",
    "eBay con eproximadamente el doble de autos que bmw y opel combinados. Tenemos marcas que tienen un porcentaje\n",
    "insignificantes de autos, por lo tanto limitaremos nuestr análisis a todoas aquellas marcas que tengan un 5%\n",
    "porciento o más del total de autos en el listado."
   ],
   "metadata": {
    "collapsed": false
   }
  },
  {
   "cell_type": "code",
   "execution_count": 20,
   "outputs": [
    {
     "name": "stdout",
     "output_type": "stream",
     "text": [
      "Index(['volkswagen', 'bmw', 'opel', 'mercedes_benz', 'audi', 'ford'], dtype='object')\n"
     ]
    }
   ],
   "source": [
    "brand_counts = auto.loc[:,\"brand\"].value_counts(normalize=True)\n",
    "common_brands = brand_counts[brand_counts >0.05].index\n",
    "print(common_brands)"
   ],
   "metadata": {
    "collapsed": false,
    "pycharm": {
     "name": "#%%\n"
    }
   }
  },
  {
   "cell_type": "code",
   "execution_count": 21,
   "outputs": [
    {
     "name": "stdout",
     "output_type": "stream",
     "text": [
      "{'volkswagen': 5402, 'bmw': 8332, 'opel': 2975, 'mercedes_benz': 8628, 'audi': 9336, 'ford': 3749}\n"
     ]
    }
   ],
   "source": [
    "brand_price_average = {}\n",
    "for brand in common_brands:\n",
    "    brand_only = auto.loc[auto.loc[:,\"brand\"] == brand, :]\n",
    "    price_average = brand_only.loc[:,\"price\"].mean()\n",
    "    brand_price_average[brand] = int(price_average)\n",
    "print(brand_price_average)"
   ],
   "metadata": {
    "collapsed": false,
    "pycharm": {
     "name": "#%%\n"
    }
   }
  },
  {
   "cell_type": "markdown",
   "source": [
    "Entre las marcas populares de carros usados encontradas tenemos los siguientes hallazgos en precio:\n",
    "* Audi, Mercedes Benz y Bmw son los autos mas costosos.\n",
    "* Ford y Opel son los las económicos\n",
    "* Volkswagen está en la mitad del rango de precios, esto puede explicar su popularidad, ya que pueden ofrecer\n",
    "las mejores características de ambos segmentos (calidad - precio).\n"
   ],
   "metadata": {
    "collapsed": false
   }
  },
  {
   "cell_type": "markdown",
   "source": [
    "## Explorando el Kilometraje (Odometer)\n",
    "\n"
   ],
   "metadata": {
    "collapsed": false
   }
  },
  {
   "cell_type": "code",
   "execution_count": 22,
   "outputs": [
    {
     "data": {
      "text/plain": "               mean_price\naudi                 9336\nmercedes_benz        8628\nbmw                  8332\nvolkswagen           5402\nford                 3749\nopel                 2975",
      "text/html": "<div>\n<style scoped>\n    .dataframe tbody tr th:only-of-type {\n        vertical-align: middle;\n    }\n\n    .dataframe tbody tr th {\n        vertical-align: top;\n    }\n\n    .dataframe thead th {\n        text-align: right;\n    }\n</style>\n<table border=\"1\" class=\"dataframe\">\n  <thead>\n    <tr style=\"text-align: right;\">\n      <th></th>\n      <th>mean_price</th>\n    </tr>\n  </thead>\n  <tbody>\n    <tr>\n      <th>audi</th>\n      <td>9336</td>\n    </tr>\n    <tr>\n      <th>mercedes_benz</th>\n      <td>8628</td>\n    </tr>\n    <tr>\n      <th>bmw</th>\n      <td>8332</td>\n    </tr>\n    <tr>\n      <th>volkswagen</th>\n      <td>5402</td>\n    </tr>\n    <tr>\n      <th>ford</th>\n      <td>3749</td>\n    </tr>\n    <tr>\n      <th>opel</th>\n      <td>2975</td>\n    </tr>\n  </tbody>\n</table>\n</div>"
     },
     "execution_count": 22,
     "metadata": {},
     "output_type": "execute_result"
    }
   ],
   "source": [
    "bmp = pd.Series(brand_price_average).sort_values(ascending=False)\n",
    "pd.DataFrame(bmp, columns=[\"mean_price\"])\n"
   ],
   "metadata": {
    "collapsed": false,
    "pycharm": {
     "name": "#%%\n"
    }
   }
  },
  {
   "cell_type": "code",
   "execution_count": 23,
   "outputs": [
    {
     "name": "stdout",
     "output_type": "stream",
     "text": [
      "{'volkswagen': 128707, 'bmw': 132572, 'opel': 129310, 'mercedes_benz': 130788, 'audi': 129157, 'ford': 124266}\n"
     ]
    }
   ],
   "source": [
    "brand_mileage_average = {}\n",
    "for brand in common_brands:\n",
    "    brand_only = auto.loc[auto.loc[:,\"brand\"] == brand, :]\n",
    "    mile_average = brand_only.loc[:,\"odometer_km\"].mean()\n",
    "    brand_mileage_average[brand] = int(mile_average)\n",
    "print(brand_mileage_average)"
   ],
   "metadata": {
    "collapsed": false,
    "pycharm": {
     "name": "#%%\n"
    }
   }
  },
  {
   "cell_type": "code",
   "source": [
    "bma = pd.Series(brand_mileage_average).sort_values(ascending=False)\n",
    "bma_df = pd.DataFrame(bma, columns=[\"mean_mileage\"])\n",
    "print(bma_df)\n"
   ],
   "metadata": {
    "collapsed": false,
    "pycharm": {
     "name": "#%%\n"
    }
   },
   "execution_count": 24,
   "outputs": [
    {
     "name": "stdout",
     "output_type": "stream",
     "text": [
      "               mean_mileage\n",
      "bmw                  132572\n",
      "mercedes_benz        130788\n",
      "opel                 129310\n",
      "audi                 129157\n",
      "volkswagen           128707\n",
      "ford                 124266\n"
     ]
    }
   ]
  },
  {
   "cell_type": "code",
   "execution_count": 25,
   "outputs": [
    {
     "name": "stdout",
     "output_type": "stream",
     "text": [
      "               mean_mileage  mean_price\n",
      "bmw                  132572        8332\n",
      "mercedes_benz        130788        8628\n",
      "opel                 129310        2975\n",
      "audi                 129157        9336\n",
      "volkswagen           128707        5402\n",
      "ford                 124266        3749\n"
     ]
    }
   ],
   "source": [
    "final_table = bma_df\n",
    "final_table[\"mean_price\"] = bmp\n",
    "print(final_table)"
   ],
   "metadata": {
    "collapsed": false,
    "pycharm": {
     "name": "#%%\n"
    }
   }
  },
  {
   "cell_type": "markdown",
   "source": [
    "El rango de kilometraje de los automóviles no varía tanto como los precios por marca, sino que todos caen\n",
    "dentro del 10% para las mejores marcas. Existe una ligera tendencia a que los vehículos más costosoa tengan\n",
    "un mayor kilometraje, y los vehículos menos costosos tengan un menor kilometraje."
   ],
   "metadata": {
    "collapsed": false
   }
  }
 ],
 "metadata": {
  "kernelspec": {
   "display_name": "Python 3",
   "language": "python",
   "name": "python3"
  },
  "language_info": {
   "codemirror_mode": {
    "name": "ipython",
    "version": 2
   },
   "file_extension": ".py",
   "mimetype": "text/x-python",
   "name": "python",
   "nbconvert_exporter": "python",
   "pygments_lexer": "ipython2",
   "version": "2.7.6"
  }
 },
 "nbformat": 4,
 "nbformat_minor": 0
}